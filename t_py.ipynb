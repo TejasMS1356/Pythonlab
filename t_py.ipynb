{
  "nbformat": 4,
  "nbformat_minor": 0,
  "metadata": {
    "colab": {
      "provenance": [],
      "toc_visible": true,
      "authorship_tag": "ABX9TyPWZXy6FTjmofeS9MFEI2JS",
      "include_colab_link": true
    },
    "kernelspec": {
      "name": "python3",
      "display_name": "Python 3"
    },
    "language_info": {
      "name": "python"
    }
  },
  "cells": [
    {
      "cell_type": "markdown",
      "metadata": {
        "id": "view-in-github",
        "colab_type": "text"
      },
      "source": [
        "<a href=\"https://colab.research.google.com/github/TejasMS1356/pythonlab/blob/main/t_py.ipynb\" target=\"_parent\"><img src=\"https://colab.research.google.com/assets/colab-badge.svg\" alt=\"Open In Colab\"/></a>"
      ]
    },
    {
      "cell_type": "code",
      "execution_count": null,
      "metadata": {
        "colab": {
          "base_uri": "https://localhost:8080/"
        },
        "id": "cdlQ2miAFy3r",
        "outputId": "6903dbd6-e4ad-4ef6-9e0f-e7ab34faea5f"
      },
      "outputs": [
        {
          "output_type": "stream",
          "name": "stdout",
          "text": [
            "enter the list: 1 2 3\n",
            "[1, 2, 3]\n",
            "the mean is 2.0\n",
            "the variance is 0.6666666666666666\n",
            "the standard deviation is 0.816496580927726\n"
          ]
        }
      ],
      "source": [
        "l=list(map(int,input(\"enter the list: \").split()))\n",
        "print(l)\n",
        "def mean(l):\n",
        "  return sum(l)/len(l)\n",
        "y=mean(l)\n",
        "print(\"the mean is\",y)\n",
        "def var(mean,l):\n",
        "  return sum((x-mean)**2 for x in l)/len(l)\n",
        "z=var(y,l)\n",
        "print(\"the variance is\",z)\n",
        "def std(var):\n",
        "  return var**0.5\n",
        "print(\"the standard deviation is\",std(z))"
      ]
    },
    {
      "cell_type": "markdown",
      "source": [
        "# New Section"
      ],
      "metadata": {
        "id": "xriREqFuGwwU"
      }
    }
  ]
}